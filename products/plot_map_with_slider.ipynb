{
 "cells": [
  {
   "cell_type": "code",
   "execution_count": 1,
   "id": "8d68496c",
   "metadata": {
    "execution": {
     "iopub.execute_input": "2024-08-01T14:09:03.128392Z",
     "iopub.status.busy": "2024-08-01T14:09:03.127546Z",
     "iopub.status.idle": "2024-08-01T14:09:03.137457Z",
     "shell.execute_reply": "2024-08-01T14:09:03.136135Z"
    },
    "papermill": {
     "duration": 0.023637,
     "end_time": "2024-08-01T14:09:03.141062",
     "exception": false,
     "start_time": "2024-08-01T14:09:03.117425",
     "status": "completed"
    },
    "tags": [
     "parameters"
    ]
   },
   "outputs": [],
   "source": [
    "# add default values for parameters here"
   ]
  },
  {
   "cell_type": "code",
   "execution_count": 2,
   "id": "60feb3a8",
   "metadata": {
    "execution": {
     "iopub.execute_input": "2024-08-01T14:09:03.148773Z",
     "iopub.status.busy": "2024-08-01T14:09:03.148344Z",
     "iopub.status.idle": "2024-08-01T14:09:03.157131Z",
     "shell.execute_reply": "2024-08-01T14:09:03.156450Z"
    },
    "papermill": {
     "duration": 0.014681,
     "end_time": "2024-08-01T14:09:03.158957",
     "exception": false,
     "start_time": "2024-08-01T14:09:03.144276",
     "status": "completed"
    },
    "tags": [
     "injected-parameters"
    ]
   },
   "outputs": [],
   "source": [
    "# Parameters\n",
    "upstream = {\"filter_data\": {\"nb\": \"/Users/sinugp/my_ploomber_project/products/filter_data.ipynb\", \"data\": \"/Users/sinugp/my_ploomber_project/data/filtered_data.csv\"}}\n",
    "product = {\"nb\": \"/Users/sinugp/my_ploomber_project/products/plot_map_with_slider.ipynb\", \"html\": \"/Users/sinugp/my_ploomber_project/data/map.html\"}\n"
   ]
  },
  {
   "cell_type": "code",
   "execution_count": 3,
   "id": "feb1b553",
   "metadata": {
    "execution": {
     "iopub.execute_input": "2024-08-01T14:09:03.163596Z",
     "iopub.status.busy": "2024-08-01T14:09:03.163287Z",
     "iopub.status.idle": "2024-08-01T14:09:21.766698Z",
     "shell.execute_reply": "2024-08-01T14:09:21.766317Z"
    },
    "papermill": {
     "duration": 18.607131,
     "end_time": "2024-08-01T14:09:21.767844",
     "exception": false,
     "start_time": "2024-08-01T14:09:03.160713",
     "status": "completed"
    },
    "tags": []
   },
   "outputs": [],
   "source": [
    "import pandas as pd\n",
    "import folium\n",
    "from folium.plugins import TimestampedGeoJson\n",
    "\n",
    "def run(upstream, product):\n",
    "    df = pd.read_csv(upstream['filter_data']['data'])\n",
    "    df['date'] = pd.to_datetime(df['date'])\n",
    "\n",
    "    # Create a map centered around the mean coordinates with a specific zoom level\n",
    "    m = folium.Map(location=[df['YCoordinate'].mean(), df['XCoordinate'].mean()], zoom_start=4)\n",
    "\n",
    "    # Define a function to determine color based on value\n",
    "    def get_color(value):\n",
    "        if value < 10:\n",
    "            return 'green'\n",
    "        elif 10 <= value < 20:\n",
    "            return 'blue'\n",
    "        elif 20 <= value < 30:\n",
    "            return 'orange'\n",
    "        else:\n",
    "            return 'red'\n",
    "\n",
    "    # Define a function to determine radius based on value\n",
    "    def get_radius(value):\n",
    "        if value < 10:\n",
    "            return 8\n",
    "        else:\n",
    "            return 10\n",
    "\n",
    "    features = []\n",
    "    for i, row in df.iterrows():\n",
    "        feature = {\n",
    "            'type': 'Feature',\n",
    "            'geometry': {\n",
    "                'type': 'Point',\n",
    "                'coordinates': [row['XCoordinate'], row['YCoordinate']]\n",
    "            },\n",
    "            'properties': {\n",
    "                'time': row['date'].isoformat(),\n",
    "                'popup': f\"ID: {row['Id']} - {row['Name']}: ({row['XCoordinate']}, {row['YCoordinate']}) Value: {row['value']}\",\n",
    "                'icon': 'circle',\n",
    "                'iconstyle': {\n",
    "                    'color': get_color(row['value']),\n",
    "                    'fillColor': get_color(row['value']),\n",
    "                    'fillOpacity': 0.6,\n",
    "                    'radius': get_radius(row['value'])\n",
    "                }\n",
    "            }\n",
    "        }\n",
    "        if 'highlight_id' in row and row['Id'] == row['highlight_id']:\n",
    "            # Adding blinking effect for the highlighted ID\n",
    "            feature['properties']['iconstyle']['className'] = 'blinking'\n",
    "        features.append(feature)\n",
    "\n",
    "    TimestampedGeoJson({\n",
    "        'type': 'FeatureCollection',\n",
    "        'features': features\n",
    "    }, period='P1D', add_last_point=True, auto_play=False, loop=False).add_to(m)\n",
    "\n",
    "    # Add legend to the map\n",
    "    legend_html = '''\n",
    "     <div style=\"position: fixed; \n",
    "                 bottom: 50px; right: 50px; width: 150px; height: 150px; \n",
    "                 border:2px solid grey; z-index:9999; font-size:14px;\n",
    "                 background-color:white;\n",
    "                 \">\n",
    "     &nbsp;<b>Legend</b><br>\n",
    "     &nbsp;<i class=\"fa fa-circle\" style=\"color:green\"></i>&nbsp; value < 10<br>\n",
    "     &nbsp;<i class=\"fa fa-circle\" style=\"color:blue\"></i>&nbsp; 10 <= value < 20<br>\n",
    "     &nbsp;<i class=\"fa fa-circle\" style=\"color:orange\"></i>&nbsp; 20 <= value < 30<br>\n",
    "     &nbsp;<i class=\"fa fa-circle\" style=\"color:red\"></i>&nbsp; value >= 30\n",
    "     </div>\n",
    "     '''\n",
    "    m.get_root().html.add_child(folium.Element(legend_html))\n",
    "\n",
    "    # Add CSS for blinking effect\n",
    "    blinking_css = '''\n",
    "    <style>\n",
    "    .blinking {\n",
    "        animation: blinker 1s linear infinite;\n",
    "    }\n",
    "    @keyframes blinker {\n",
    "        50% { opacity: 0; }\n",
    "    }\n",
    "    </style>\n",
    "    '''\n",
    "    m.get_root().html.add_child(folium.Element(blinking_css))\n",
    "\n",
    "    m.save(product['html'])\n",
    "\n",
    "if __name__ == \"__main__\":\n",
    "    upstream = {\n",
    "        'filter_data': {\n",
    "            'data': 'data/filtered_data.csv'\n",
    "        }\n",
    "    }\n",
    "    product = {\n",
    "        'html': 'data/map.html'\n",
    "    }\n",
    "    run(upstream, product)\n"
   ]
  }
 ],
 "metadata": {
  "jupytext": {
   "cell_metadata_filter": "tags,-all",
   "main_language": "python",
   "notebook_metadata_filter": "-all",
   "text_representation": {
    "extension": ".py",
    "format_name": "light"
   }
  },
  "kernelspec": {
   "display_name": "Python 3 (ipykernel)",
   "language": "python",
   "name": "python3"
  },
  "language_info": {
   "codemirror_mode": {
    "name": "ipython",
    "version": 3
   },
   "file_extension": ".py",
   "mimetype": "text/x-python",
   "name": "python",
   "nbconvert_exporter": "python",
   "pygments_lexer": "ipython3",
   "version": "3.10.0"
  },
  "papermill": {
   "duration": 19.444399,
   "end_time": "2024-08-01T14:09:21.985596",
   "exception": null,
   "input_path": "/var/folders/_9/18rjpvms1475j106t1pg_wth0000gn/T/tmpn03pilt0.ipynb",
   "output_path": "/Users/sinugp/my_ploomber_project/products/plot_map_with_slider.ipynb",
   "parameters": {
    "product": {
     "html": "/Users/sinugp/my_ploomber_project/data/map.html",
     "nb": "/Users/sinugp/my_ploomber_project/products/plot_map_with_slider.ipynb"
    },
    "upstream": {
     "filter_data": {
      "data": "/Users/sinugp/my_ploomber_project/data/filtered_data.csv",
      "nb": "/Users/sinugp/my_ploomber_project/products/filter_data.ipynb"
     }
    }
   },
   "start_time": "2024-08-01T14:09:02.541197"
  }
 },
 "nbformat": 4,
 "nbformat_minor": 5
}