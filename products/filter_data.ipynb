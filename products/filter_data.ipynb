{
 "cells": [
  {
   "cell_type": "code",
   "execution_count": 1,
   "id": "2614f1da",
   "metadata": {
    "execution": {
     "iopub.execute_input": "2024-08-01T14:09:00.356780Z",
     "iopub.status.busy": "2024-08-01T14:09:00.356113Z",
     "iopub.status.idle": "2024-08-01T14:09:00.364256Z",
     "shell.execute_reply": "2024-08-01T14:09:00.362928Z"
    },
    "papermill": {
     "duration": 0.018771,
     "end_time": "2024-08-01T14:09:00.367653",
     "exception": false,
     "start_time": "2024-08-01T14:09:00.348882",
     "status": "completed"
    },
    "tags": [
     "parameters"
    ]
   },
   "outputs": [],
   "source": [
    "# add default values for parameters here"
   ]
  },
  {
   "cell_type": "code",
   "execution_count": 2,
   "id": "7c9d017c",
   "metadata": {
    "execution": {
     "iopub.execute_input": "2024-08-01T14:09:00.375741Z",
     "iopub.status.busy": "2024-08-01T14:09:00.375311Z",
     "iopub.status.idle": "2024-08-01T14:09:00.384742Z",
     "shell.execute_reply": "2024-08-01T14:09:00.384349Z"
    },
    "papermill": {
     "duration": 0.014622,
     "end_time": "2024-08-01T14:09:00.385863",
     "exception": false,
     "start_time": "2024-08-01T14:09:00.371241",
     "status": "completed"
    },
    "tags": [
     "injected-parameters"
    ]
   },
   "outputs": [],
   "source": [
    "# Parameters\n",
    "upstream = {\"load_data\": {\"nb\": \"/Users/sinugp/my_ploomber_project/products/load_data.ipynb\", \"data\": \"/Users/sinugp/my_ploomber_project/data/loaded_data.csv\"}}\n",
    "product = {\"nb\": \"/Users/sinugp/my_ploomber_project/products/filter_data.ipynb\", \"data\": \"/Users/sinugp/my_ploomber_project/data/filtered_data.csv\"}\n"
   ]
  },
  {
   "cell_type": "code",
   "execution_count": 3,
   "id": "a6bb446e",
   "metadata": {
    "execution": {
     "iopub.execute_input": "2024-08-01T14:09:00.388208Z",
     "iopub.status.busy": "2024-08-01T14:09:00.388037Z",
     "iopub.status.idle": "2024-08-01T14:09:02.415582Z",
     "shell.execute_reply": "2024-08-01T14:09:02.415266Z"
    },
    "papermill": {
     "duration": 2.029942,
     "end_time": "2024-08-01T14:09:02.416681",
     "exception": false,
     "start_time": "2024-08-01T14:09:00.386739",
     "status": "completed"
    },
    "tags": []
   },
   "outputs": [],
   "source": [
    "import pandas as pd\n",
    "\n",
    "def run(upstream, product):\n",
    "    df = pd.read_csv(upstream['load_data']['data'])\n",
    "    filtered_df = df  # Example: no filtering for now\n",
    "    filtered_df.to_csv(product['data'], index=False)\n",
    "\n",
    "if __name__ == \"__main__\":\n",
    "    upstream = {\n",
    "        'load_data': {\n",
    "            'data': 'data/loaded_data.csv'\n",
    "        }\n",
    "    }\n",
    "    product = {\n",
    "        'data': 'data/filtered_data.csv'\n",
    "    }\n",
    "    run(upstream, product)\n",
    "\n",
    "\n"
   ]
  }
 ],
 "metadata": {
  "jupytext": {
   "cell_metadata_filter": "tags,-all",
   "main_language": "python",
   "notebook_metadata_filter": "-all",
   "text_representation": {
    "extension": ".py",
    "format_name": "light"
   }
  },
  "kernelspec": {
   "display_name": "Python 3 (ipykernel)",
   "language": "python",
   "name": "python3"
  },
  "language_info": {
   "codemirror_mode": {
    "name": "ipython",
    "version": 3
   },
   "file_extension": ".py",
   "mimetype": "text/x-python",
   "name": "python",
   "nbconvert_exporter": "python",
   "pygments_lexer": "ipython3",
   "version": "3.10.0"
  },
  "papermill": {
   "duration": 2.752825,
   "end_time": "2024-08-01T14:09:02.532574",
   "exception": null,
   "input_path": "/var/folders/_9/18rjpvms1475j106t1pg_wth0000gn/T/tmpzbtfztmc.ipynb",
   "output_path": "/Users/sinugp/my_ploomber_project/products/filter_data.ipynb",
   "parameters": {
    "product": {
     "data": "/Users/sinugp/my_ploomber_project/data/filtered_data.csv",
     "nb": "/Users/sinugp/my_ploomber_project/products/filter_data.ipynb"
    },
    "upstream": {
     "load_data": {
      "data": "/Users/sinugp/my_ploomber_project/data/loaded_data.csv",
      "nb": "/Users/sinugp/my_ploomber_project/products/load_data.ipynb"
     }
    }
   },
   "start_time": "2024-08-01T14:08:59.779749"
  }
 },
 "nbformat": 4,
 "nbformat_minor": 5
}