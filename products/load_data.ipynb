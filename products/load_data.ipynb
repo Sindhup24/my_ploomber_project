{
 "cells": [
  {
   "cell_type": "code",
   "execution_count": 1,
   "id": "d85e51bf",
   "metadata": {
    "execution": {
     "iopub.execute_input": "2024-08-01T14:08:57.575830Z",
     "iopub.status.busy": "2024-08-01T14:08:57.574995Z",
     "iopub.status.idle": "2024-08-01T14:08:57.585016Z",
     "shell.execute_reply": "2024-08-01T14:08:57.583322Z"
    },
    "papermill": {
     "duration": 0.023832,
     "end_time": "2024-08-01T14:08:57.588873",
     "exception": false,
     "start_time": "2024-08-01T14:08:57.565041",
     "status": "completed"
    },
    "tags": [
     "parameters"
    ]
   },
   "outputs": [],
   "source": [
    "# add default values for parameters here"
   ]
  },
  {
   "cell_type": "code",
   "execution_count": 2,
   "id": "2bda1b94",
   "metadata": {
    "execution": {
     "iopub.execute_input": "2024-08-01T14:08:57.597726Z",
     "iopub.status.busy": "2024-08-01T14:08:57.597302Z",
     "iopub.status.idle": "2024-08-01T14:08:57.606622Z",
     "shell.execute_reply": "2024-08-01T14:08:57.605790Z"
    },
    "papermill": {
     "duration": 0.015127,
     "end_time": "2024-08-01T14:08:57.608551",
     "exception": false,
     "start_time": "2024-08-01T14:08:57.593424",
     "status": "completed"
    },
    "tags": [
     "injected-parameters"
    ]
   },
   "outputs": [],
   "source": [
    "# Parameters\n",
    "product = {\"nb\": \"/Users/sinugp/my_ploomber_project/products/load_data.ipynb\", \"data\": \"/Users/sinugp/my_ploomber_project/data/loaded_data.csv\"}\n"
   ]
  },
  {
   "cell_type": "code",
   "execution_count": 3,
   "id": "47fbfce1",
   "metadata": {
    "execution": {
     "iopub.execute_input": "2024-08-01T14:08:57.612389Z",
     "iopub.status.busy": "2024-08-01T14:08:57.612132Z",
     "iopub.status.idle": "2024-08-01T14:08:59.657112Z",
     "shell.execute_reply": "2024-08-01T14:08:59.656786Z"
    },
    "papermill": {
     "duration": 2.04822,
     "end_time": "2024-08-01T14:08:59.658263",
     "exception": false,
     "start_time": "2024-08-01T14:08:57.610043",
     "status": "completed"
    },
    "tags": []
   },
   "outputs": [],
   "source": [
    "import pandas as pd\n",
    "\n",
    "def run(product):\n",
    "    df = pd.read_csv('/Users/sinugp/my_ploomber_project/fc_geoglows_random_20240429.csv')\n",
    "    df.to_csv(product['data'], index=False)\n",
    "\n",
    "if __name__ == \"__main__\":\n",
    "    product = {\n",
    "        'data': 'data/loaded_data.csv'\n",
    "    }\n",
    "    run(product)\n",
    "\n",
    "\n"
   ]
  }
 ],
 "metadata": {
  "jupytext": {
   "cell_metadata_filter": "tags,-all",
   "main_language": "python",
   "notebook_metadata_filter": "-all",
   "text_representation": {
    "extension": ".py",
    "format_name": "light"
   }
  },
  "kernelspec": {
   "display_name": "Python 3 (ipykernel)",
   "language": "python",
   "name": "python3"
  },
  "language_info": {
   "codemirror_mode": {
    "name": "ipython",
    "version": 3
   },
   "file_extension": ".py",
   "mimetype": "text/x-python",
   "name": "python",
   "nbconvert_exporter": "python",
   "pygments_lexer": "ipython3",
   "version": "3.10.0"
  },
  "papermill": {
   "duration": 2.92831,
   "end_time": "2024-08-01T14:08:59.775131",
   "exception": null,
   "input_path": "/var/folders/_9/18rjpvms1475j106t1pg_wth0000gn/T/tmpb8zuq0hc.ipynb",
   "output_path": "/Users/sinugp/my_ploomber_project/products/load_data.ipynb",
   "parameters": {
    "product": {
     "data": "/Users/sinugp/my_ploomber_project/data/loaded_data.csv",
     "nb": "/Users/sinugp/my_ploomber_project/products/load_data.ipynb"
    }
   },
   "start_time": "2024-08-01T14:08:56.846821"
  }
 },
 "nbformat": 4,
 "nbformat_minor": 5
}