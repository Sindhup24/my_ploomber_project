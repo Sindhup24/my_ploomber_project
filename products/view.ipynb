{
 "cells": [
  {
   "cell_type": "code",
   "execution_count": 1,
   "id": "b09a8202",
   "metadata": {
    "execution": {
     "iopub.execute_input": "2024-08-01T14:10:29.055235Z",
     "iopub.status.busy": "2024-08-01T14:10:29.054564Z",
     "iopub.status.idle": "2024-08-01T14:10:29.061242Z",
     "shell.execute_reply": "2024-08-01T14:10:29.060322Z"
    },
    "papermill": {
     "duration": 0.015552,
     "end_time": "2024-08-01T14:10:29.064608",
     "exception": false,
     "start_time": "2024-08-01T14:10:29.049056",
     "status": "completed"
    },
    "tags": [
     "parameters"
    ]
   },
   "outputs": [],
   "source": [
    "# add default values for parameters here"
   ]
  },
  {
   "cell_type": "code",
   "execution_count": 2,
   "id": "cc9ce7f6",
   "metadata": {
    "execution": {
     "iopub.execute_input": "2024-08-01T14:10:29.072939Z",
     "iopub.status.busy": "2024-08-01T14:10:29.072504Z",
     "iopub.status.idle": "2024-08-01T14:10:29.077244Z",
     "shell.execute_reply": "2024-08-01T14:10:29.076933Z"
    },
    "papermill": {
     "duration": 0.010444,
     "end_time": "2024-08-01T14:10:29.078261",
     "exception": false,
     "start_time": "2024-08-01T14:10:29.067817",
     "status": "completed"
    },
    "tags": [
     "injected-parameters"
    ]
   },
   "outputs": [],
   "source": [
    "# Parameters\n",
    "upstream = {\"plot_line_chart\": {\"nb\": \"/Users/sinugp/my_ploomber_project/products/plot_line_chart.ipynb\", \"img\": \"/Users/sinugp/my_ploomber_project/data/line_chart.png\"}, \"plot_map_with_slider\": {\"nb\": \"/Users/sinugp/my_ploomber_project/products/plot_map_with_slider.ipynb\", \"html\": \"/Users/sinugp/my_ploomber_project/data/map.html\"}}\n",
    "product = {\"nb\": \"/Users/sinugp/my_ploomber_project/products/view.ipynb\"}\n"
   ]
  },
  {
   "cell_type": "code",
   "execution_count": 3,
   "id": "27699f6b",
   "metadata": {
    "execution": {
     "iopub.execute_input": "2024-08-01T14:10:29.080483Z",
     "iopub.status.busy": "2024-08-01T14:10:29.080324Z",
     "iopub.status.idle": "2024-08-01T14:10:29.476416Z",
     "shell.execute_reply": "2024-08-01T14:10:29.456408Z"
    },
    "papermill": {
     "duration": 0.411321,
     "end_time": "2024-08-01T14:10:29.490463",
     "exception": false,
     "start_time": "2024-08-01T14:10:29.079142",
     "status": "completed"
    },
    "tags": []
   },
   "outputs": [],
   "source": [
    "import solara\n",
    "\n",
    "def run(upstream, product):\n",
    "    @solara.component\n",
    "    def View():\n",
    "        with solara.VBox() as main:\n",
    "            solara.HTML(tag=\"div\", unsafe_innerHTML=open(upstream['plot_map_with_slider']['html']).read())\n",
    "            solara.Image(source=upstream['plot_line_chart']['img'])\n",
    "        return main\n",
    "\n",
    "    @solara.component\n",
    "    def Controls():\n",
    "        solara.Button(label=\"Generate Chart\", on_click=lambda: print(\"Button clicked\"), icon_name=\"mdi-chart-bar\")\n",
    "\n",
    "    @solara.component\n",
    "    def Page():\n",
    "        with solara.Sidebar():\n",
    "            Controls()\n",
    "        View()\n",
    "\n",
    "    Page()\n",
    "\n",
    "if __name__ == \"__main__\":\n",
    "    upstream = {\n",
    "        'plot_map_with_slider': {\n",
    "            'html': 'data/map.html'\n",
    "        },\n",
    "        'plot_line_chart': {\n",
    "            'img': 'data/line_chart.png'\n",
    "        }\n",
    "    }\n",
    "    product = {\n",
    "        'nb': 'products/view.ipynb'\n",
    "    }\n",
    "    run(upstream, product)\n"
   ]
  }
 ],
 "metadata": {
  "jupytext": {
   "cell_metadata_filter": "tags,-all",
   "main_language": "python",
   "notebook_metadata_filter": "-all",
   "text_representation": {
    "extension": ".py",
    "format_name": "light"
   }
  },
  "kernelspec": {
   "display_name": "Python 3 (ipykernel)",
   "language": "python",
   "name": "python3"
  },
  "language_info": {
   "codemirror_mode": {
    "name": "ipython",
    "version": 3
   },
   "file_extension": ".py",
   "mimetype": "text/x-python",
   "name": "python",
   "nbconvert_exporter": "python",
   "pygments_lexer": "ipython3",
   "version": "3.10.0"
  },
  "papermill": {
   "duration": 1.466164,
   "end_time": "2024-08-01T14:10:29.730175",
   "exception": null,
   "input_path": "/var/folders/_9/18rjpvms1475j106t1pg_wth0000gn/T/tmpdcgbdx1l.ipynb",
   "output_path": "/Users/sinugp/my_ploomber_project/products/view.ipynb",
   "parameters": {
    "product": {
     "nb": "/Users/sinugp/my_ploomber_project/products/view.ipynb"
    },
    "upstream": {
     "plot_line_chart": {
      "img": "/Users/sinugp/my_ploomber_project/data/line_chart.png",
      "nb": "/Users/sinugp/my_ploomber_project/products/plot_line_chart.ipynb"
     },
     "plot_map_with_slider": {
      "html": "/Users/sinugp/my_ploomber_project/data/map.html",
      "nb": "/Users/sinugp/my_ploomber_project/products/plot_map_with_slider.ipynb"
     }
    }
   },
   "start_time": "2024-08-01T14:10:28.264011"
  },
  "widgets": {
   "application/vnd.jupyter.widget-state+json": {
    "state": {
     "04c6c895265f4315bebe6e00ef45550f": {
      "model_module": "jupyter-vuetify",
      "model_module_version": "^1.9.4",
      "model_name": "ThemeColorsModel",
      "state": {
       "_model_module": "jupyter-vuetify",
       "_model_module_version": "^1.9.4",
       "_model_name": "ThemeColorsModel",
       "_theme_name": "light",
       "_view_count": null,
       "_view_module": null,
       "_view_module_version": "^1.9.4",
       "_view_name": null,
       "accent": "#82B1FF",
       "anchor": null,
       "error": "#FF5252",
       "info": "#2196F3",
       "primary": "#1976D2",
       "secondary": "#424242",
       "success": "#4CAF50",
       "warning": "#FB8C00"
      }
     },
     "12801d31dbbd4976a1c8efe8f778bb2f": {
      "model_module": "jupyter-vuetify",
      "model_module_version": "^1.9.4",
      "model_name": "ThemeColorsModel",
      "state": {
       "_model_module": "jupyter-vuetify",
       "_model_module_version": "^1.9.4",
       "_model_name": "ThemeColorsModel",
       "_theme_name": "dark",
       "_view_count": null,
       "_view_module": null,
       "_view_module_version": "^1.9.4",
       "_view_name": null,
       "accent": "#FF4081",
       "anchor": null,
       "error": "#FF5252",
       "info": "#2196F3",
       "primary": "#2196F3",
       "secondary": "#424242",
       "success": "#4CAF50",
       "warning": "#FB8C00"
      }
     },
     "2edffbc78f3e40c8942055cc65f31425": {
      "model_module": "jupyter-vue",
      "model_module_version": "^1.11.1",
      "model_name": "ForceLoadModel",
      "state": {
       "_dom_classes": [],
       "_model_module": "jupyter-vue",
       "_model_module_version": "^1.11.1",
       "_model_name": "ForceLoadModel",
       "_view_count": null,
       "_view_module": null,
       "_view_module_version": "",
       "_view_name": null,
       "layout": "IPY_MODEL_6d867b7699dc4484950c5580af366a9a",
       "tabbable": null,
       "tooltip": null
      }
     },
     "6d867b7699dc4484950c5580af366a9a": {
      "model_module": "@jupyter-widgets/base",
      "model_module_version": "2.0.0",
      "model_name": "LayoutModel",
      "state": {
       "_model_module": "@jupyter-widgets/base",
       "_model_module_version": "2.0.0",
       "_model_name": "LayoutModel",
       "_view_count": null,
       "_view_module": "@jupyter-widgets/base",
       "_view_module_version": "2.0.0",
       "_view_name": "LayoutView",
       "align_content": null,
       "align_items": null,
       "align_self": null,
       "border_bottom": null,
       "border_left": null,
       "border_right": null,
       "border_top": null,
       "bottom": null,
       "display": null,
       "flex": null,
       "flex_flow": null,
       "grid_area": null,
       "grid_auto_columns": null,
       "grid_auto_flow": null,
       "grid_auto_rows": null,
       "grid_column": null,
       "grid_gap": null,
       "grid_row": null,
       "grid_template_areas": null,
       "grid_template_columns": null,
       "grid_template_rows": null,
       "height": null,
       "justify_content": null,
       "justify_items": null,
       "left": null,
       "margin": null,
       "max_height": null,
       "max_width": null,
       "min_height": null,
       "min_width": null,
       "object_fit": null,
       "object_position": null,
       "order": null,
       "overflow": null,
       "padding": null,
       "right": null,
       "top": null,
       "visibility": null,
       "width": null
      }
     },
     "9845b13cbe0743ed9317a5408af9a416": {
      "model_module": "jupyter-vuetify",
      "model_module_version": "^1.9.4",
      "model_name": "ThemeModel",
      "state": {
       "_model_module": "jupyter-vuetify",
       "_model_module_version": "^1.9.4",
       "_model_name": "ThemeModel",
       "_view_count": null,
       "_view_module": null,
       "_view_module_version": "^1.9.4",
       "_view_name": null,
       "dark": null,
       "dark_effective": null
      }
     }
    },
    "version_major": 2,
    "version_minor": 0
   }
  }
 },
 "nbformat": 4,
 "nbformat_minor": 5
}